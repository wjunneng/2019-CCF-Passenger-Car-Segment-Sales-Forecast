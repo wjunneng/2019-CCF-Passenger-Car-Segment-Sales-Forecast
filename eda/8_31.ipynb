{
 "cells": [
  {
   "cell_type": "code",
   "execution_count": 15,
   "metadata": {
    "collapsed": true,
    "pycharm": {
     "is_executing": false
    }
   },
   "outputs": [],
   "source": [
    "import pandas as pd\n",
    "\n",
    "project_path = '/home/wjunneng/Ubuntu/2019-CCF-Passenger-Car-Segment-Sales-Forecast'\n",
    "\n",
    "# train_sales_data\n",
    "train_sales_data_path = project_path + '/data/original/train_sales_data.csv'\n",
    "# train_search_data\n",
    "train_search_data_path = project_path + '/data/original/train_search_data.csv'\n",
    "# train_user_reply_data\n",
    "train_user_reply_data = project_path + '/data/original/train_user_reply_data.csv'\n",
    "# evaluation_public\n",
    "evaluation_public = project_path + '/data/original/evaluation_public.csv'\n",
    "# submit_example.csv\n",
    "submit_example = project_path + '/data/original/submit_example.csv'\n",
    "\n",
    "train_sales_data = pd.read_csv(train_sales_data_path)\n",
    "# train_search_data = pd.read_csv(train_search_data_path)\n",
    "# train_user_reply_data = pd.read_csv(train_user_reply_data)\n",
    "evaluation_public = pd.read_csv(evaluation_public)\n"
   ]
  },
  {
   "cell_type": "code",
   "execution_count": 16,
   "outputs": [
    {
     "name": "stdout",
     "text": [
      "Index(['province', 'adcode', 'model', 'bodyType', 'regYear', 'regMonth',\n       'salesVolume'],\n      dtype='object')\nIndex(['id', 'province', 'adcode', 'model', 'regYear', 'regMonth',\n       'forecastVolum'],\n      dtype='object')\n"
     ],
     "output_type": "stream"
    }
   ],
   "source": [
    "print(train_sales_data.columns)\n",
    "print(evaluation_public.columns)\n"
   ],
   "metadata": {
    "collapsed": false,
    "pycharm": {
     "name": "#%%\n",
     "is_executing": false
    }
   }
  },
  {
   "cell_type": "code",
   "execution_count": 17,
   "outputs": [
    {
     "data": {
      "text/plain": "a9a43d1a7ecbe75d    528\n61e73e32ad101892    528\nc6cd4e0e073f5ac2    528\nc6833cb891626c17    528\nd4efbebb087fd03f    528\n7023efdab9cedc03    528\n63065128401bb3ff    528\nda457d15788fe8ee    528\nf8a6975573af1b33    528\n3d7554f1f56dd664    528\na207df29ec9583f0    528\nfeabbf46658382b9    528\n2a2ab41f8f6ff1cb    528\n04e66e578f653ab9    528\n936168bd4850913d    528\nf5d69960089c3614    528\na28bb927b6fcb33c    528\naf6f4f548684e14d    528\n97f15de12cfabbd5    528\n6155b214590c66e6    528\nfde95ea242abd896    528\n37aa9169b575ef79    528\n4a103c30d593fbbe    528\n5d7fb682edd0f937    528\n8c915fe4632fb9fa    528\n06880909932890ca    528\n79de4e4b24c35b04    528\ncc21c7e91a3b5a0c    528\nea489c253676aafc    528\n3e21824be728cbec    528\na432c483b5beb856    528\n7245e0ee27b195cd    528\n12f8b7e14947c34d    528\nef76a85c4b39f693    528\n5b1c11c3efed5312    528\nbb9fbec9a2833839    528\nfc32b1a017b34efe    528\n02aab221aabc03b9    528\nb25c4e2e3856af22    528\n54fc07138d70374c    528\n17363f08d683d52b    528\nf270f6a489c6a9d7    528\n6858d6dfe680bdf7    528\nb4be3a4917289c82    528\n0797526c057dcf5b    528\ncd5841d44fd7625e    528\n7a7885e2d7c00bcf    528\n7cf283430b3b5e38    528\n3c974920a76ac9c1    528\n7aab7fca2470987e    528\ndff803b4024d261d    528\n4f79773e600518a6    528\n212083a9246d2fd3    528\n9c1c7ee8ebdda299    528\n28e29f2c03dcd84c    528\nd0f245b8781e3631    528\nc06a2a387c0ee510    528\n346393c2c6305fb1    528\n17bc272c93f19d56    528\n2d0d2c3403909fdb    528\nName: model, dtype: int64"
     },
     "metadata": {},
     "output_type": "execute_result",
     "execution_count": 17
    }
   ],
   "source": [
    "train_sales_data.model.value_counts()\n"
   ],
   "metadata": {
    "collapsed": false,
    "pycharm": {
     "name": "#%%\n",
     "is_executing": false
    }
   }
  },
  {
   "cell_type": "code",
   "execution_count": 18,
   "outputs": [
    {
     "data": {
      "text/plain": "17363f08d683d52b    88\na28bb927b6fcb33c    88\n37aa9169b575ef79    88\n7cf283430b3b5e38    88\nf8a6975573af1b33    88\n3c974920a76ac9c1    88\n4a103c30d593fbbe    88\n7aab7fca2470987e    88\n3d7554f1f56dd664    88\ndff803b4024d261d    88\n5d7fb682edd0f937    88\nbb9fbec9a2833839    88\n8c915fe4632fb9fa    88\n4f79773e600518a6    88\n06880909932890ca    88\n212083a9246d2fd3    88\n79de4e4b24c35b04    88\ncc21c7e91a3b5a0c    88\n9c1c7ee8ebdda299    88\nea489c253676aafc    88\nfc32b1a017b34efe    88\na207df29ec9583f0    88\nfeabbf46658382b9    88\n02aab221aabc03b9    88\nb25c4e2e3856af22    88\n2a2ab41f8f6ff1cb    88\n04e66e578f653ab9    88\n936168bd4850913d    88\nf5d69960089c3614    88\ncd5841d44fd7625e    88\nda457d15788fe8ee    88\n12f8b7e14947c34d    88\n61e73e32ad101892    88\n28e29f2c03dcd84c    88\nd0f245b8781e3631    88\n54fc07138d70374c    88\naf6f4f548684e14d    88\nc06a2a387c0ee510    88\n346393c2c6305fb1    88\n17bc272c93f19d56    88\na9a43d1a7ecbe75d    88\n7a7885e2d7c00bcf    88\nf270f6a489c6a9d7    88\n97f15de12cfabbd5    88\n6858d6dfe680bdf7    88\nb4be3a4917289c82    88\n0797526c057dcf5b    88\n7245e0ee27b195cd    88\na432c483b5beb856    88\n3e21824be728cbec    88\nc6cd4e0e073f5ac2    88\nc6833cb891626c17    88\nd4efbebb087fd03f    88\nef76a85c4b39f693    88\n7023efdab9cedc03    88\n63065128401bb3ff    88\n6155b214590c66e6    88\nfde95ea242abd896    88\n5b1c11c3efed5312    88\n2d0d2c3403909fdb    88\nName: model, dtype: int64"
     },
     "metadata": {},
     "output_type": "execute_result",
     "execution_count": 18
    }
   ],
   "source": [
    "evaluation_public.model.value_counts()\n"
   ],
   "metadata": {
    "collapsed": false,
    "pycharm": {
     "name": "#%%\n",
     "is_executing": false
    }
   }
  },
  {
   "cell_type": "code",
   "execution_count": 19,
   "outputs": [
    {
     "name": "stdout",
     "text": [
      "<class 'pandas.core.frame.DataFrame'>\nRangeIndex: 36960 entries, 0 to 36959\nData columns (total 7 columns):\nadcode         36960 non-null int64\nbodyType       36960 non-null object\nmodel          36960 non-null object\nprovince       36960 non-null object\nregMonth       36960 non-null int64\nregYear        36960 non-null int64\nsalesVolume    31680 non-null float64\ndtypes: float64(1), int64(3), object(3)\nmemory usage: 2.0+ MB\nNone\n"
     ],
     "output_type": "stream"
    },
    {
     "name": "stderr",
     "text": [
      "/home/wjunneng/Python/anaconda3/envs/tensorflow/lib/python3.6/site-packages/ipykernel_launcher.py:1: FutureWarning: Sorting because non-concatenation axis is not aligned. A future version\nof pandas will change to not sort by default.\n\nTo accept the future behavior, pass 'sort=False'.\n\nTo retain the current behavior and silence the warning, pass 'sort=True'.\n\n  \"\"\"Entry point for launching an IPython kernel.\n"
     ],
     "output_type": "stream"
    }
   ],
   "source": [
    "data = pd.concat([train_sales_data, evaluation_public], axis=0, ignore_index=True)\n",
    "data['bodyType'] = data['model'].map(train_sales_data.drop_duplicates('model').set_index('model')['bodyType'])\n",
    "data.drop(labels='forecastVolum', axis=1, inplace=True)\n",
    "data.drop(labels='id', axis=1, inplace=True)\n",
    "print(data.info())\n"
   ],
   "metadata": {
    "collapsed": false,
    "pycharm": {
     "name": "#%%\n",
     "is_executing": false
    }
   }
  },
  {
   "cell_type": "code",
   "execution_count": 20,
   "outputs": [
    {
     "name": "stdout",
     "text": [
      "<class 'pandas.core.frame.DataFrame'>\nRangeIndex: 36960 entries, 0 to 36959\nData columns (total 6 columns):\nadcode         36960 non-null int64\nbodyType       36960 non-null object\nmodel          36960 non-null object\nprovince       36960 non-null object\nsalesVolume    31680 non-null float64\ndate           36960 non-null object\ndtypes: float64(1), int64(1), object(4)\nmemory usage: 1.7+ MB\nNone\n"
     ],
     "output_type": "stream"
    }
   ],
   "source": [
    "data['date'] = data['regYear'].astype(str) + '-' + data['regMonth'].astype(str)\n",
    "data.drop(labels='regYear', axis=1, inplace=True)\n",
    "data.drop(labels='regMonth', axis=1, inplace=True)\n",
    "print(data.info())\n"
   ],
   "metadata": {
    "collapsed": false,
    "pycharm": {
     "name": "#%%\n",
     "is_executing": false
    }
   }
  },
  {
   "cell_type": "code",
   "execution_count": 21,
   "outputs": [
    {
     "name": "stdout",
     "text": [
      "   adcode bodyType             model province  salesVolume       date\n0  310000      SUV  3c974920a76ac9c1       上海        292.0 2016-01-01\n1  530000      SUV  3c974920a76ac9c1       云南        466.0 2016-01-01\n2  150000      SUV  3c974920a76ac9c1      内蒙古        257.0 2016-01-01\n3  110000      SUV  3c974920a76ac9c1       北京        408.0 2016-01-01\n4  510000      SUV  3c974920a76ac9c1       四川        610.0 2016-01-01\n"
     ],
     "output_type": "stream"
    }
   ],
   "source": [
    "import datetime\n",
    "\n",
    "data['date'] = data['date'].apply(lambda x: datetime.datetime(year=int(x.split('-')[0]), month=int(x.split('-')[1]), day=1))\n",
    "\n",
    "print(data.head())\n",
    "\n"
   ],
   "metadata": {
    "collapsed": false,
    "pycharm": {
     "name": "#%%\n",
     "is_executing": false
    }
   }
  },
  {
   "cell_type": "code",
   "execution_count": 22,
   "outputs": [
    {
     "data": {
      "text/plain": "Sedan        16632\nSUV          15400\nMPV           3080\nHatchback     1848\nName: bodyType, dtype: int64"
     },
     "metadata": {},
     "output_type": "execute_result",
     "execution_count": 22
    }
   ],
   "source": [
    "data.bodyType.value_counts()\n"
   ],
   "metadata": {
    "collapsed": false,
    "pycharm": {
     "name": "#%%\n",
     "is_executing": false
    }
   }
  },
  {
   "cell_type": "code",
   "execution_count": 23,
   "outputs": [
    {
     "data": {
      "text/plain": "a9a43d1a7ecbe75d    616\n61e73e32ad101892    616\nc6cd4e0e073f5ac2    616\nc6833cb891626c17    616\nd4efbebb087fd03f    616\n7023efdab9cedc03    616\n63065128401bb3ff    616\nda457d15788fe8ee    616\nf8a6975573af1b33    616\n3d7554f1f56dd664    616\na207df29ec9583f0    616\nfeabbf46658382b9    616\n2a2ab41f8f6ff1cb    616\n04e66e578f653ab9    616\n936168bd4850913d    616\nf5d69960089c3614    616\na28bb927b6fcb33c    616\naf6f4f548684e14d    616\n97f15de12cfabbd5    616\n6155b214590c66e6    616\nfde95ea242abd896    616\n37aa9169b575ef79    616\n4a103c30d593fbbe    616\n5d7fb682edd0f937    616\n8c915fe4632fb9fa    616\n06880909932890ca    616\n79de4e4b24c35b04    616\ncc21c7e91a3b5a0c    616\nea489c253676aafc    616\n3e21824be728cbec    616\na432c483b5beb856    616\n7245e0ee27b195cd    616\n12f8b7e14947c34d    616\nef76a85c4b39f693    616\n5b1c11c3efed5312    616\nbb9fbec9a2833839    616\nfc32b1a017b34efe    616\n02aab221aabc03b9    616\nb25c4e2e3856af22    616\n54fc07138d70374c    616\n17363f08d683d52b    616\nf270f6a489c6a9d7    616\n6858d6dfe680bdf7    616\nb4be3a4917289c82    616\n0797526c057dcf5b    616\ncd5841d44fd7625e    616\n7a7885e2d7c00bcf    616\n7cf283430b3b5e38    616\n3c974920a76ac9c1    616\n7aab7fca2470987e    616\ndff803b4024d261d    616\n4f79773e600518a6    616\n212083a9246d2fd3    616\n9c1c7ee8ebdda299    616\n28e29f2c03dcd84c    616\nd0f245b8781e3631    616\nc06a2a387c0ee510    616\n346393c2c6305fb1    616\n17bc272c93f19d56    616\n2d0d2c3403909fdb    616\nName: model, dtype: int64"
     },
     "metadata": {},
     "output_type": "execute_result",
     "execution_count": 23
    }
   ],
   "source": [
    "data.model.value_counts()\n"
   ],
   "metadata": {
    "collapsed": false,
    "pycharm": {
     "name": "#%%\n",
     "is_executing": false
    }
   }
  },
  {
   "cell_type": "code",
   "execution_count": 24,
   "outputs": [
    {
     "name": "stdout",
     "text": [
      "27\n25\n5\n3\n"
     ],
     "output_type": "stream"
    }
   ],
   "source": [
    "Sedan = data[data.bodyType == 'Sedan']\n",
    "print(len(Sedan.model.value_counts()))\n",
    "\n",
    "SUV = data[data.bodyType == 'SUV']\n",
    "print(len(SUV.model.value_counts()))\n",
    "\n",
    "MPV = data[data.bodyType == 'MPV']\n",
    "print(len(MPV.model.value_counts()))\n",
    "\n",
    "Hatchback = data[data.bodyType == 'Hatchback']\n",
    "print(len(Hatchback.model.value_counts()))\n"
   ],
   "metadata": {
    "collapsed": false,
    "pycharm": {
     "name": "#%%\n",
     "is_executing": false
    }
   }
  },
  {
   "cell_type": "code",
   "execution_count": 25,
   "outputs": [],
   "source": [
    "data['bodyType'] = data['bodyType'].apply(lambda x: 1 if x == 'Sedan' else x)\n",
    "data['bodyType'] = data['bodyType'].apply(lambda x: 2 if x == 'SUV' else x)\n",
    "data['bodyType'] = data['bodyType'].apply(lambda x: 3 if x == 'MPV' else x)\n",
    "data['bodyType'] = data['bodyType'].apply(lambda x: 4 if x == 'Hatchback' else x)\n",
    "\n",
    "model = dict(zip(data['model'].unique(), range(1, data['model'].nunique())))\n"
   ],
   "metadata": {
    "collapsed": false,
    "pycharm": {
     "name": "#%%\n",
     "is_executing": false
    }
   }
  },
  {
   "cell_type": "code",
   "execution_count": 26,
   "outputs": [
    {
     "name": "stdout",
     "text": [
      "{'3c974920a76ac9c1': 1, '3d7554f1f56dd664': 2, '2d0d2c3403909fdb': 3, 'a28bb927b6fcb33c': 4, '17bc272c93f19d56': 5, '2a2ab41f8f6ff1cb': 6, 'c06a2a387c0ee510': 7, '7023efdab9cedc03': 8, 'af6f4f548684e14d': 9, '7cf283430b3b5e38': 10, 'd4efbebb087fd03f': 11, '7245e0ee27b195cd': 12, '8c915fe4632fb9fa': 13, '6155b214590c66e6': 14, '28e29f2c03dcd84c': 15, '37aa9169b575ef79': 16, '63065128401bb3ff': 17, 'ea489c253676aafc': 18, 'cd5841d44fd7625e': 19, 'b25c4e2e3856af22': 20, '4a103c30d593fbbe': 21, '7a7885e2d7c00bcf': 22, '346393c2c6305fb1': 23, '02aab221aabc03b9': 24, '5d7fb682edd0f937': 25, 'a207df29ec9583f0': 26, 'b4be3a4917289c82': 27, 'ef76a85c4b39f693': 28, 'bb9fbec9a2833839': 29, 'da457d15788fe8ee': 30, '6858d6dfe680bdf7': 31, '79de4e4b24c35b04': 32, '12f8b7e14947c34d': 33, '04e66e578f653ab9': 34, 'dff803b4024d261d': 35, '61e73e32ad101892': 36, 'a432c483b5beb856': 37, '0797526c057dcf5b': 38, '936168bd4850913d': 39, 'cc21c7e91a3b5a0c': 40, '7aab7fca2470987e': 41, 'fde95ea242abd896': 42, '97f15de12cfabbd5': 43, 'f5d69960089c3614': 44, '5b1c11c3efed5312': 45, '17363f08d683d52b': 46, '06880909932890ca': 47, '9c1c7ee8ebdda299': 48, 'c6833cb891626c17': 49, '3e21824be728cbec': 50, 'f8a6975573af1b33': 51, '54fc07138d70374c': 52, '212083a9246d2fd3': 53, '4f79773e600518a6': 54, 'fc32b1a017b34efe': 55, 'feabbf46658382b9': 56, 'f270f6a489c6a9d7': 57, 'd0f245b8781e3631': 58, 'c6cd4e0e073f5ac2': 59}\n"
     ],
     "output_type": "stream"
    }
   ],
   "source": [
    "print(model)\n"
   ],
   "metadata": {
    "collapsed": false,
    "pycharm": {
     "name": "#%%\n",
     "is_executing": false
    }
   }
  },
  {
   "cell_type": "code",
   "execution_count": 27,
   "outputs": [],
   "source": [
    "data['model'] = data['model'].map(model)\n"
   ],
   "metadata": {
    "collapsed": false,
    "pycharm": {
     "name": "#%%\n",
     "is_executing": false
    }
   }
  },
  {
   "cell_type": "code",
   "execution_count": 28,
   "outputs": [
    {
     "name": "stdout",
     "text": [
      "   adcode  bodyType  model province  salesVolume       date\n0  310000         2    1.0       上海        292.0 2016-01-01\n1  530000         2    1.0       云南        466.0 2016-01-01\n2  150000         2    1.0      内蒙古        257.0 2016-01-01\n3  110000         2    1.0       北京        408.0 2016-01-01\n4  510000         2    1.0       四川        610.0 2016-01-01\n"
     ],
     "output_type": "stream"
    }
   ],
   "source": [
    "print(data.head())\n"
   ],
   "metadata": {
    "collapsed": false,
    "pycharm": {
     "name": "#%%\n",
     "is_executing": false
    }
   }
  },
  {
   "cell_type": "code",
   "execution_count": 29,
   "outputs": [
    {
     "data": {
      "text/plain": "   adcode  bodyType  model  salesVolume       date\n0      31         2    1.0        292.0 2016-01-01\n1      53         2    1.0        466.0 2016-01-01\n2      15         2    1.0        257.0 2016-01-01\n3      11         2    1.0        408.0 2016-01-01\n4      51         2    1.0        610.0 2016-01-01",
      "text/html": "<div>\n<style scoped>\n    .dataframe tbody tr th:only-of-type {\n        vertical-align: middle;\n    }\n\n    .dataframe tbody tr th {\n        vertical-align: top;\n    }\n\n    .dataframe thead th {\n        text-align: right;\n    }\n</style>\n<table border=\"1\" class=\"dataframe\">\n  <thead>\n    <tr style=\"text-align: right;\">\n      <th></th>\n      <th>adcode</th>\n      <th>bodyType</th>\n      <th>model</th>\n      <th>salesVolume</th>\n      <th>date</th>\n    </tr>\n  </thead>\n  <tbody>\n    <tr>\n      <td>0</td>\n      <td>31</td>\n      <td>2</td>\n      <td>1.0</td>\n      <td>292.0</td>\n      <td>2016-01-01</td>\n    </tr>\n    <tr>\n      <td>1</td>\n      <td>53</td>\n      <td>2</td>\n      <td>1.0</td>\n      <td>466.0</td>\n      <td>2016-01-01</td>\n    </tr>\n    <tr>\n      <td>2</td>\n      <td>15</td>\n      <td>2</td>\n      <td>1.0</td>\n      <td>257.0</td>\n      <td>2016-01-01</td>\n    </tr>\n    <tr>\n      <td>3</td>\n      <td>11</td>\n      <td>2</td>\n      <td>1.0</td>\n      <td>408.0</td>\n      <td>2016-01-01</td>\n    </tr>\n    <tr>\n      <td>4</td>\n      <td>51</td>\n      <td>2</td>\n      <td>1.0</td>\n      <td>610.0</td>\n      <td>2016-01-01</td>\n    </tr>\n  </tbody>\n</table>\n</div>"
     },
     "metadata": {},
     "output_type": "execute_result",
     "execution_count": 29
    }
   ],
   "source": [
    "data.drop(labels='province', axis=1, inplace=True)\n",
    "data['adcode'] = data['adcode'].apply(lambda x: int(str(x)[:2]))\n",
    "data.head()"
   ],
   "metadata": {
    "collapsed": false,
    "pycharm": {
     "name": "#%%\n",
     "is_executing": false
    }
   }
  },
  {
   "cell_type": "code",
   "execution_count": 30,
   "outputs": [],
   "source": [
    "data = data[['date', 'adcode', 'bodyType', 'model', 'salesVolume']]\n",
    "path = '/home/wjunneng/Ubuntu/2019-CCF-Passenger-Car-Segment-Sales-Forecast/demo/lstm/data'\n",
    "data.sort_values('date', inplace=True)\n",
    "data.to_csv(path_or_buf=path+'/data.csv', index=None, encoding='utf-8')\n"
   ],
   "metadata": {
    "collapsed": false,
    "pycharm": {
     "name": "#%%\n",
     "is_executing": false
    }
   }
  },
  {
   "cell_type": "code",
   "execution_count": null,
   "outputs": [],
   "source": [
    "\n"
   ],
   "metadata": {
    "collapsed": false,
    "pycharm": {
     "name": "#%%\n"
    }
   }
  }
 ],
 "metadata": {
  "language_info": {
   "codemirror_mode": {
    "name": "ipython",
    "version": 2
   },
   "file_extension": ".py",
   "mimetype": "text/x-python",
   "name": "python",
   "nbconvert_exporter": "python",
   "pygments_lexer": "ipython2",
   "version": "2.7.6"
  },
  "kernelspec": {
   "name": "pycharm-427c7da",
   "language": "python",
   "display_name": "PyCharm (2019-CCF-Passenger-Car-Segment-Sales-Forecast)"
  },
  "pycharm": {
   "stem_cell": {
    "cell_type": "raw",
    "source": [],
    "metadata": {
     "collapsed": false
    }
   }
  }
 },
 "nbformat": 4,
 "nbformat_minor": 0
}