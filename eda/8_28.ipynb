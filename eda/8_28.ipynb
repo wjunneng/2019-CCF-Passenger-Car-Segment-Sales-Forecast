{
 "cells": [
  {
   "cell_type": "code",
   "execution_count": 2,
   "metadata": {
    "collapsed": true,
    "pycharm": {
     "is_executing": false
    }
   },
   "outputs": [
    {
     "name": "stdout",
     "text": [
      "Index(['province', 'adcode', 'model', 'bodyType', 'regYear', 'regMonth',\n       'salesVolume'],\n      dtype='object')\nIndex(['province', 'adcode', 'model', 'regYear', 'regMonth', 'popularity'], dtype='object')\nIndex(['model', 'regYear', 'regMonth', 'carCommentVolum', 'newsReplyVolum'], dtype='object')\nIndex(['id', 'province', 'adcode', 'model', 'regYear', 'regMonth',\n       'forecastVolum'],\n      dtype='object')\n"
     ],
     "output_type": "stream"
    }
   ],
   "source": [
    "import pandas as pd\n",
    "\n",
    "project_path = '/home/wjunneng/Ubuntu/2019-CCF-Passenger-Car-Segment-Sales-Forecast'\n",
    "\n",
    "# train_sales_data\n",
    "train_sales_data_path = project_path + '/data/original/train_sales_data.csv'\n",
    "# train_search_data\n",
    "train_search_data_path = project_path + '/data/original/train_search_data.csv'\n",
    "# train_user_reply_data\n",
    "train_user_reply_data = project_path + '/data/original/train_user_reply_data.csv'\n",
    "\n",
    "# evaluation_public\n",
    "evaluation_public = project_path + '/data/original/evaluation_public.csv'\n",
    "# submit_example.csv\n",
    "submit_example = project_path + '/data/original/submit_example.csv'\n",
    "\n",
    "\n",
    "\n",
    "train_sales_data = pd.read_csv(train_sales_data_path)\n",
    "train_search_data = pd.read_csv(train_search_data_path)\n",
    "train_user_reply_data = pd.read_csv(train_user_reply_data)\n",
    "evaluation_public = pd.read_csv(evaluation_public)\n",
    "\n",
    "print(train_sales_data.columns)\n",
    "print(train_search_data.columns)\n",
    "print(train_user_reply_data.columns)\n",
    "print(evaluation_public.columns)\n",
    "\n",
    "\n"
   ]
  },
  {
   "cell_type": "code",
   "execution_count": null,
   "outputs": [],
   "source": [
    "\n"
   ],
   "metadata": {
    "collapsed": false,
    "pycharm": {
     "name": "#%%\n"
    }
   }
  }
 ],
 "metadata": {
  "language_info": {
   "codemirror_mode": {
    "name": "ipython",
    "version": 2
   },
   "file_extension": ".py",
   "mimetype": "text/x-python",
   "name": "python",
   "nbconvert_exporter": "python",
   "pygments_lexer": "ipython2",
   "version": "2.7.6"
  },
  "kernelspec": {
   "name": "pycharm-e50da876",
   "language": "python",
   "display_name": "PyCharm (ForecastScore)"
  },
  "pycharm": {
   "stem_cell": {
    "cell_type": "raw",
    "source": [],
    "metadata": {
     "collapsed": false
    }
   }
  }
 },
 "nbformat": 4,
 "nbformat_minor": 0
}