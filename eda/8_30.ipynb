{
 "cells": [
  {
   "cell_type": "code",
   "execution_count": 36,
   "metadata": {
    "collapsed": true,
    "pycharm": {
     "name": "#%%\n",
     "is_executing": false
    }
   },
   "outputs": [],
   "source": [
    "import pandas as pd\n",
    "\n",
    "project_path = '/home/wjunneng/Ubuntu/2019-CCF-Passenger-Car-Segment-Sales-Forecast'\n",
    "\n",
    "# train_sales_data\n",
    "train_sales_data_path = project_path + '/data/original/train_sales_data.csv'\n",
    "# train_search_data\n",
    "train_search_data_path = project_path + '/data/original/train_search_data.csv'\n",
    "# train_user_reply_data\n",
    "train_user_reply_data = project_path + '/data/original/train_user_reply_data.csv'\n",
    "\n",
    "# evaluation_public\n",
    "evaluation_public = project_path + '/data/original/evaluation_public.csv'\n",
    "# submit_example.csv\n",
    "submit_example = project_path + '/data/original/submit_example.csv'\n",
    "\n",
    "train_sales_data = pd.read_csv(train_sales_data_path)\n",
    "train_search_data = pd.read_csv(train_search_data_path)\n",
    "train_user_reply_data = pd.read_csv(train_user_reply_data)\n",
    "evaluation_public = pd.read_csv(evaluation_public)\n",
    "\n"
   ]
  },
  {
   "cell_type": "code",
   "execution_count": 37,
   "outputs": [
    {
     "name": "stdout",
     "text": [
      "<class 'pandas.core.frame.DataFrame'>\nRangeIndex: 31680 entries, 0 to 31679\nData columns (total 6 columns):\nprovince      31680 non-null object\nadcode        31680 non-null int64\nmodel         31680 non-null object\nregYear       31680 non-null int64\nregMonth      31680 non-null int64\npopularity    31680 non-null int64\ndtypes: int64(4), object(2)\nmemory usage: 1.5+ MB\nNone\n\n\n<class 'pandas.core.frame.DataFrame'>\nRangeIndex: 31680 entries, 0 to 31679\nData columns (total 7 columns):\nprovince       31680 non-null object\nadcode         31680 non-null int64\nmodel          31680 non-null object\nbodyType       31680 non-null object\nregYear        31680 non-null int64\nregMonth       31680 non-null int64\nsalesVolume    31680 non-null int64\ndtypes: int64(4), object(3)\nmemory usage: 1.7+ MB\nNone\n"
     ],
     "output_type": "stream"
    }
   ],
   "source": [
    "print(train_search_data.info())\n",
    "print('\\n')\n",
    "print(train_sales_data.info())\n",
    "\n"
   ],
   "metadata": {
    "collapsed": false,
    "pycharm": {
     "name": "#%%\n",
     "is_executing": false
    }
   }
  },
  {
   "cell_type": "code",
   "execution_count": 38,
   "outputs": [
    {
     "name": "stdout",
     "text": [
      "<class 'pandas.core.frame.DataFrame'>\nInt64Index: 36960 entries, 0 to 36959\nData columns (total 10 columns):\nadcode           36960 non-null int64\nbodyType         31680 non-null object\nforecastVolum    0 non-null float64\nid               5280 non-null float64\nmodel            36960 non-null object\nprovince         36960 non-null object\nregMonth         36960 non-null int64\nregYear          36960 non-null int64\nsalesVolume      31680 non-null float64\npopularity       31680 non-null float64\ndtypes: float64(4), int64(3), object(3)\nmemory usage: 3.1+ MB\nNone\n"
     ],
     "output_type": "stream"
    },
    {
     "name": "stderr",
     "text": [
      "/home/wjunneng/Python/anaconda3/envs/lightgbm/lib/python3.6/site-packages/ipykernel_launcher.py:1: FutureWarning: Sorting because non-concatenation axis is not aligned. A future version\nof pandas will change to not sort by default.\n\nTo accept the future behavior, pass 'sort=False'.\n\nTo retain the current behavior and silence the warning, pass 'sort=True'.\n\n  \"\"\"Entry point for launching an IPython kernel.\n"
     ],
     "output_type": "stream"
    }
   ],
   "source": [
    "data = pd.concat([train_sales_data, evaluation_public], axis=0, ignore_index=True)\n",
    "\n",
    "data = data.merge(train_search_data, how='left', on=['province', 'adcode', 'model'\n",
    "                                                                            , 'regYear', 'regMonth'])\n",
    "print(data.info())\n",
    "\n"
   ],
   "metadata": {
    "collapsed": false,
    "pycharm": {
     "name": "#%%\n",
     "is_executing": false
    }
   }
  },
  {
   "cell_type": "code",
   "execution_count": 39,
   "outputs": [
    {
     "name": "stdout",
     "text": [
      "<class 'pandas.core.frame.DataFrame'>\nInt64Index: 36960 entries, 0 to 36959\nData columns (total 12 columns):\nadcode             36960 non-null int64\nbodyType           31680 non-null object\nforecastVolum      0 non-null float64\nid                 5280 non-null float64\nmodel              36960 non-null object\nprovince           36960 non-null object\nregMonth           36960 non-null int64\nregYear            36960 non-null int64\nsalesVolume        31680 non-null float64\npopularity         31680 non-null float64\ncarCommentVolum    31680 non-null float64\nnewsReplyVolum     31680 non-null float64\ndtypes: float64(6), int64(3), object(3)\nmemory usage: 3.7+ MB\nNone\n"
     ],
     "output_type": "stream"
    }
   ],
   "source": [
    "data = data.merge(train_user_reply_data, how='left', on=['model', 'regYear', 'regMonth'])\n",
    "\n",
    "print(data.info())\n",
    "\n"
   ],
   "metadata": {
    "collapsed": false,
    "pycharm": {
     "name": "#%%\n",
     "is_executing": false
    }
   }
  },
  {
   "cell_type": "code",
   "execution_count": 40,
   "outputs": [
    {
     "name": "stdout",
     "text": [
      "<class 'pandas.core.frame.DataFrame'>\nInt64Index: 36960 entries, 0 to 36959\nData columns (total 11 columns):\nadcode             36960 non-null int64\nbodyType           31680 non-null object\nid                 36960 non-null int64\nmodel              36960 non-null object\nprovince           36960 non-null object\nregMonth           36960 non-null int64\nregYear            36960 non-null int64\nsalesVolume        31680 non-null float64\npopularity         31680 non-null float64\ncarCommentVolum    31680 non-null float64\nnewsReplyVolum     31680 non-null float64\ndtypes: float64(4), int64(4), object(3)\nmemory usage: 3.4+ MB\nNone\n"
     ],
     "output_type": "stream"
    }
   ],
   "source": [
    "data['id'] = data['id'].fillna(0).astype(int)\n",
    "del data['forecastVolum']\n",
    "\n",
    "print(data.info())\n",
    "\n"
   ],
   "metadata": {
    "collapsed": false,
    "pycharm": {
     "name": "#%%\n",
     "is_executing": false
    }
   }
  },
  {
   "cell_type": "code",
   "execution_count": 41,
   "outputs": [
    {
     "name": "stdout",
     "text": [
      "<class 'pandas.core.frame.DataFrame'>\nInt64Index: 36960 entries, 0 to 36959\nData columns (total 11 columns):\nadcode             36960 non-null int64\nbodyType           36960 non-null object\nid                 36960 non-null int64\nmodel              36960 non-null object\nprovince           36960 non-null object\nregMonth           36960 non-null int64\nregYear            36960 non-null int64\nsalesVolume        31680 non-null float64\npopularity         31680 non-null float64\ncarCommentVolum    31680 non-null float64\nnewsReplyVolum     31680 non-null float64\ndtypes: float64(4), int64(4), object(3)\nmemory usage: 3.4+ MB\nNone\n"
     ],
     "output_type": "stream"
    }
   ],
   "source": [
    "data['bodyType'] = data['model'].map(train_sales_data.drop_duplicates('model').set_index('model')['bodyType'])\n",
    "print(data.info())\n",
    "\n"
   ],
   "metadata": {
    "collapsed": false,
    "pycharm": {
     "name": "#%%\n",
     "is_executing": false
    }
   }
  },
  {
   "cell_type": "code",
   "execution_count": 42,
   "outputs": [
    {
     "data": {
      "text/plain": "   adcode bodyType  id             model province  regMonth  regYear  \\\n0  310000      SUV   0  3c974920a76ac9c1       上海         1     2016   \n1  530000      SUV   0  3c974920a76ac9c1       云南         1     2016   \n2  150000      SUV   0  3c974920a76ac9c1      内蒙古         1     2016   \n3  110000      SUV   0  3c974920a76ac9c1       北京         1     2016   \n4  510000      SUV   0  3c974920a76ac9c1       四川         1     2016   \n\n   salesVolume  popularity  carCommentVolum  newsReplyVolum  \n0        292.0      1479.0             11.0           106.0  \n1        466.0      1594.0             11.0           106.0  \n2        257.0      1479.0             11.0           106.0  \n3        408.0      2370.0             11.0           106.0  \n4        610.0      3562.0             11.0           106.0  ",
      "text/html": "<div>\n<style scoped>\n    .dataframe tbody tr th:only-of-type {\n        vertical-align: middle;\n    }\n\n    .dataframe tbody tr th {\n        vertical-align: top;\n    }\n\n    .dataframe thead th {\n        text-align: right;\n    }\n</style>\n<table border=\"1\" class=\"dataframe\">\n  <thead>\n    <tr style=\"text-align: right;\">\n      <th></th>\n      <th>adcode</th>\n      <th>bodyType</th>\n      <th>id</th>\n      <th>model</th>\n      <th>province</th>\n      <th>regMonth</th>\n      <th>regYear</th>\n      <th>salesVolume</th>\n      <th>popularity</th>\n      <th>carCommentVolum</th>\n      <th>newsReplyVolum</th>\n    </tr>\n  </thead>\n  <tbody>\n    <tr>\n      <th>0</th>\n      <td>310000</td>\n      <td>SUV</td>\n      <td>0</td>\n      <td>3c974920a76ac9c1</td>\n      <td>上海</td>\n      <td>1</td>\n      <td>2016</td>\n      <td>292.0</td>\n      <td>1479.0</td>\n      <td>11.0</td>\n      <td>106.0</td>\n    </tr>\n    <tr>\n      <th>1</th>\n      <td>530000</td>\n      <td>SUV</td>\n      <td>0</td>\n      <td>3c974920a76ac9c1</td>\n      <td>云南</td>\n      <td>1</td>\n      <td>2016</td>\n      <td>466.0</td>\n      <td>1594.0</td>\n      <td>11.0</td>\n      <td>106.0</td>\n    </tr>\n    <tr>\n      <th>2</th>\n      <td>150000</td>\n      <td>SUV</td>\n      <td>0</td>\n      <td>3c974920a76ac9c1</td>\n      <td>内蒙古</td>\n      <td>1</td>\n      <td>2016</td>\n      <td>257.0</td>\n      <td>1479.0</td>\n      <td>11.0</td>\n      <td>106.0</td>\n    </tr>\n    <tr>\n      <th>3</th>\n      <td>110000</td>\n      <td>SUV</td>\n      <td>0</td>\n      <td>3c974920a76ac9c1</td>\n      <td>北京</td>\n      <td>1</td>\n      <td>2016</td>\n      <td>408.0</td>\n      <td>2370.0</td>\n      <td>11.0</td>\n      <td>106.0</td>\n    </tr>\n    <tr>\n      <th>4</th>\n      <td>510000</td>\n      <td>SUV</td>\n      <td>0</td>\n      <td>3c974920a76ac9c1</td>\n      <td>四川</td>\n      <td>1</td>\n      <td>2016</td>\n      <td>610.0</td>\n      <td>3562.0</td>\n      <td>11.0</td>\n      <td>106.0</td>\n    </tr>\n  </tbody>\n</table>\n</div>"
     },
     "metadata": {},
     "output_type": "execute_result",
     "execution_count": 42
    }
   ],
   "source": [
    "data.head()\n",
    "\n"
   ],
   "metadata": {
    "collapsed": false,
    "pycharm": {
     "name": "#%%\n",
     "is_executing": false
    }
   }
  },
  {
   "cell_type": "code",
   "execution_count": 43,
   "outputs": [
    {
     "data": {
      "text/plain": "   adcode  bodyType  id  model province  regMonth  regYear  salesVolume  \\\n0  310000         0   0      0       上海         1     2016        292.0   \n1  530000         0   0      0       云南         1     2016        466.0   \n2  150000         0   0      0      内蒙古         1     2016        257.0   \n3  110000         0   0      0       北京         1     2016        408.0   \n4  510000         0   0      0       四川         1     2016        610.0   \n\n   popularity  carCommentVolum  newsReplyVolum  \n0      1479.0             11.0           106.0  \n1      1594.0             11.0           106.0  \n2      1479.0             11.0           106.0  \n3      2370.0             11.0           106.0  \n4      3562.0             11.0           106.0  ",
      "text/html": "<div>\n<style scoped>\n    .dataframe tbody tr th:only-of-type {\n        vertical-align: middle;\n    }\n\n    .dataframe tbody tr th {\n        vertical-align: top;\n    }\n\n    .dataframe thead th {\n        text-align: right;\n    }\n</style>\n<table border=\"1\" class=\"dataframe\">\n  <thead>\n    <tr style=\"text-align: right;\">\n      <th></th>\n      <th>adcode</th>\n      <th>bodyType</th>\n      <th>id</th>\n      <th>model</th>\n      <th>province</th>\n      <th>regMonth</th>\n      <th>regYear</th>\n      <th>salesVolume</th>\n      <th>popularity</th>\n      <th>carCommentVolum</th>\n      <th>newsReplyVolum</th>\n    </tr>\n  </thead>\n  <tbody>\n    <tr>\n      <th>0</th>\n      <td>310000</td>\n      <td>0</td>\n      <td>0</td>\n      <td>0</td>\n      <td>上海</td>\n      <td>1</td>\n      <td>2016</td>\n      <td>292.0</td>\n      <td>1479.0</td>\n      <td>11.0</td>\n      <td>106.0</td>\n    </tr>\n    <tr>\n      <th>1</th>\n      <td>530000</td>\n      <td>0</td>\n      <td>0</td>\n      <td>0</td>\n      <td>云南</td>\n      <td>1</td>\n      <td>2016</td>\n      <td>466.0</td>\n      <td>1594.0</td>\n      <td>11.0</td>\n      <td>106.0</td>\n    </tr>\n    <tr>\n      <th>2</th>\n      <td>150000</td>\n      <td>0</td>\n      <td>0</td>\n      <td>0</td>\n      <td>内蒙古</td>\n      <td>1</td>\n      <td>2016</td>\n      <td>257.0</td>\n      <td>1479.0</td>\n      <td>11.0</td>\n      <td>106.0</td>\n    </tr>\n    <tr>\n      <th>3</th>\n      <td>110000</td>\n      <td>0</td>\n      <td>0</td>\n      <td>0</td>\n      <td>北京</td>\n      <td>1</td>\n      <td>2016</td>\n      <td>408.0</td>\n      <td>2370.0</td>\n      <td>11.0</td>\n      <td>106.0</td>\n    </tr>\n    <tr>\n      <th>4</th>\n      <td>510000</td>\n      <td>0</td>\n      <td>0</td>\n      <td>0</td>\n      <td>四川</td>\n      <td>1</td>\n      <td>2016</td>\n      <td>610.0</td>\n      <td>3562.0</td>\n      <td>11.0</td>\n      <td>106.0</td>\n    </tr>\n  </tbody>\n</table>\n</div>"
     },
     "metadata": {},
     "output_type": "execute_result",
     "execution_count": 43
    }
   ],
   "source": [
    "for column in ['bodyType', 'model']:\n",
    "    data[column] = data[column].map(dict(zip(data[column].unique(), range(data[column].nunique()))))\n",
    "\n",
    "data.head()\n",
    "\n"
   ],
   "metadata": {
    "collapsed": false,
    "pycharm": {
     "name": "#%%\n",
     "is_executing": false
    }
   }
  },
  {
   "cell_type": "code",
   "execution_count": 47,
   "outputs": [
    {
     "name": "stdout",
     "text": [
      "['shift_model_adcode_month_salesVolume_12']\n<class 'pandas.core.frame.DataFrame'>\nInt64Index: 36960 entries, 0 to 36959\nData columns (total 16 columns):\nadcode                                     36960 non-null int64\nbodyType                                   36960 non-null int64\nid                                         36960 non-null int64\nmodel                                      36960 non-null int64\nprovince                                   36960 non-null object\nregMonth                                   36960 non-null int64\nregYear                                    36960 non-null int64\nsalesVolume                                31680 non-null float64\npopularity                                 31680 non-null float64\ncarCommentVolum                            31680 non-null float64\nnewsReplyVolum                             31680 non-null float64\nmonth                                      36960 non-null int64\nmodel_adcode                               36960 non-null int64\nmodel_adcode_month                         36960 non-null int64\nmodel_adcode_month_12                      36960 non-null int64\nshift_model_adcode_month_salesVolume_12    21120 non-null float64\ndtypes: float64(5), int64(10), object(1)\nmemory usage: 4.8+ MB\nNone\n"
     ],
     "output_type": "stream"
    }
   ],
   "source": [
    "data['month'] = (data['regYear'] - 2016) * 12 + data['regMonth']\n",
    "shift_feat = []\n",
    "\n",
    "data['model_adcode'] = data['adcode'] + data['model']\n",
    "data['model_adcode_month'] = data['model_adcode'] * 100 + data['month']\n",
    "for i in [11]:\n",
    "    i = i + 1\n",
    "    shift_feat.append('shift_model_adcode_month_salesVolume_{0}'.format(i))\n",
    "    data['model_adcode_month_{0}'.format(i)] = data['model_adcode_month'] + i\n",
    "    data_last = data[~data.salesVolume.isnull()].set_index('model_adcode_month_{0}'.format(i))\n",
    "    data['shift_model_adcode_month_salesVolume_{0}'.format(i)] = data['model_adcode_month'].map(data_last['salesVolume'])\n",
    "print(shift_feat)\n",
    "print(data.info())\n",
    "\n"
   ],
   "metadata": {
    "collapsed": false,
    "pycharm": {
     "name": "#%%\n",
     "is_executing": false
    }
   }
  },
  {
   "cell_type": "code",
   "execution_count": 48,
   "outputs": [
    {
     "data": {
      "text/plain": "   adcode  bodyType  id  model province  regMonth  regYear  salesVolume  \\\n0  310000         0   0      0       上海         1     2016        292.0   \n1  530000         0   0      0       云南         1     2016        466.0   \n2  150000         0   0      0      内蒙古         1     2016        257.0   \n3  110000         0   0      0       北京         1     2016        408.0   \n4  510000         0   0      0       四川         1     2016        610.0   \n\n   popularity  carCommentVolum  newsReplyVolum  month  model_adcode  \\\n0      1479.0             11.0           106.0      1        310000   \n1      1594.0             11.0           106.0      1        530000   \n2      1479.0             11.0           106.0      1        150000   \n3      2370.0             11.0           106.0      1        110000   \n4      3562.0             11.0           106.0      1        510000   \n\n   model_adcode_month  model_adcode_month_12  \\\n0            31000001               31000013   \n1            53000001               53000013   \n2            15000001               15000013   \n3            11000001               11000013   \n4            51000001               51000013   \n\n   shift_model_adcode_month_salesVolume_12  \n0                                      NaN  \n1                                      NaN  \n2                                      NaN  \n3                                      NaN  \n4                                      NaN  ",
      "text/html": "<div>\n<style scoped>\n    .dataframe tbody tr th:only-of-type {\n        vertical-align: middle;\n    }\n\n    .dataframe tbody tr th {\n        vertical-align: top;\n    }\n\n    .dataframe thead th {\n        text-align: right;\n    }\n</style>\n<table border=\"1\" class=\"dataframe\">\n  <thead>\n    <tr style=\"text-align: right;\">\n      <th></th>\n      <th>adcode</th>\n      <th>bodyType</th>\n      <th>id</th>\n      <th>model</th>\n      <th>province</th>\n      <th>regMonth</th>\n      <th>regYear</th>\n      <th>salesVolume</th>\n      <th>popularity</th>\n      <th>carCommentVolum</th>\n      <th>newsReplyVolum</th>\n      <th>month</th>\n      <th>model_adcode</th>\n      <th>model_adcode_month</th>\n      <th>model_adcode_month_12</th>\n      <th>shift_model_adcode_month_salesVolume_12</th>\n    </tr>\n  </thead>\n  <tbody>\n    <tr>\n      <th>0</th>\n      <td>310000</td>\n      <td>0</td>\n      <td>0</td>\n      <td>0</td>\n      <td>上海</td>\n      <td>1</td>\n      <td>2016</td>\n      <td>292.0</td>\n      <td>1479.0</td>\n      <td>11.0</td>\n      <td>106.0</td>\n      <td>1</td>\n      <td>310000</td>\n      <td>31000001</td>\n      <td>31000013</td>\n      <td>NaN</td>\n    </tr>\n    <tr>\n      <th>1</th>\n      <td>530000</td>\n      <td>0</td>\n      <td>0</td>\n      <td>0</td>\n      <td>云南</td>\n      <td>1</td>\n      <td>2016</td>\n      <td>466.0</td>\n      <td>1594.0</td>\n      <td>11.0</td>\n      <td>106.0</td>\n      <td>1</td>\n      <td>530000</td>\n      <td>53000001</td>\n      <td>53000013</td>\n      <td>NaN</td>\n    </tr>\n    <tr>\n      <th>2</th>\n      <td>150000</td>\n      <td>0</td>\n      <td>0</td>\n      <td>0</td>\n      <td>内蒙古</td>\n      <td>1</td>\n      <td>2016</td>\n      <td>257.0</td>\n      <td>1479.0</td>\n      <td>11.0</td>\n      <td>106.0</td>\n      <td>1</td>\n      <td>150000</td>\n      <td>15000001</td>\n      <td>15000013</td>\n      <td>NaN</td>\n    </tr>\n    <tr>\n      <th>3</th>\n      <td>110000</td>\n      <td>0</td>\n      <td>0</td>\n      <td>0</td>\n      <td>北京</td>\n      <td>1</td>\n      <td>2016</td>\n      <td>408.0</td>\n      <td>2370.0</td>\n      <td>11.0</td>\n      <td>106.0</td>\n      <td>1</td>\n      <td>110000</td>\n      <td>11000001</td>\n      <td>11000013</td>\n      <td>NaN</td>\n    </tr>\n    <tr>\n      <th>4</th>\n      <td>510000</td>\n      <td>0</td>\n      <td>0</td>\n      <td>0</td>\n      <td>四川</td>\n      <td>1</td>\n      <td>2016</td>\n      <td>610.0</td>\n      <td>3562.0</td>\n      <td>11.0</td>\n      <td>106.0</td>\n      <td>1</td>\n      <td>510000</td>\n      <td>51000001</td>\n      <td>51000013</td>\n      <td>NaN</td>\n    </tr>\n  </tbody>\n</table>\n</div>"
     },
     "metadata": {},
     "output_type": "execute_result",
     "execution_count": 48
    }
   ],
   "source": [
    "data.head()\n",
    "\n"
   ],
   "metadata": {
    "collapsed": false,
    "pycharm": {
     "name": "#%%\n",
     "is_executing": false
    }
   }
  },
  {
   "cell_type": "code",
   "execution_count": 49,
   "outputs": [
    {
     "name": "stdout",
     "text": [
      "Index(['adcode', 'bodyType', 'id', 'model', 'province', 'regMonth', 'regYear',\n       'salesVolume', 'popularity', 'carCommentVolum', 'newsReplyVolum',\n       'month', 'model_adcode', 'model_adcode_month', 'model_adcode_month_12',\n       'shift_model_adcode_month_salesVolume_12'],\n      dtype='object')\n"
     ],
     "output_type": "stream"
    }
   ],
   "source": [
    "print(data.columns)\n",
    "\n"
   ],
   "metadata": {
    "collapsed": false,
    "pycharm": {
     "name": "#%%\n",
     "is_executing": false
    }
   }
  },
  {
   "cell_type": "code",
   "execution_count": null,
   "outputs": [],
   "source": [
    "num_feat = ['regYear'] + shift_feat\n",
    "cate_feat = ['adcode', 'bodyType', 'model', 'regMonth']\n",
    "\n",
    "features = num_feat + cate_feat\n",
    "\n",
    "# data['n_label'] = data['label'] / data.groupby('model')['label'].transform('mean')\n",
    "train_idx = (data['mt'] <= 20)\n",
    "\n",
    "valid_idx = (data['mt'].between(21, 24))\n",
    "\n",
    "test_idx = (data['mt'] > 24)\n",
    "\n",
    "data['model_weight'] = data.groupby('model')['label'].transform('mean')\n",
    "data['n_label'] = data['label'] / data['model_weight']\n",
    "\n",
    "train_x = data[train_idx][features]\n",
    "train_y = data[train_idx]['n_label']\n",
    "\n",
    "valid_x = data[valid_idx][features]\n",
    "valid_y = data[valid_idx]['n_label']\n"
   ],
   "metadata": {
    "collapsed": false,
    "pycharm": {
     "name": "#%%\n"
    }
   }
  }
 ],
 "metadata": {
  "language_info": {
   "codemirror_mode": {
    "name": "ipython",
    "version": 2
   },
   "file_extension": ".py",
   "mimetype": "text/x-python",
   "name": "python",
   "nbconvert_exporter": "python",
   "pygments_lexer": "ipython2",
   "version": "2.7.6"
  },
  "kernelspec": {
   "name": "pycharm-e50da876",
   "language": "python",
   "display_name": "PyCharm (ForecastScore)"
  },
  "pycharm": {
   "stem_cell": {
    "cell_type": "raw",
    "source": [],
    "metadata": {
     "collapsed": false
    }
   }
  }
 },
 "nbformat": 4,
 "nbformat_minor": 0
}